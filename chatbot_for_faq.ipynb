{
  "nbformat": 4,
  "nbformat_minor": 0,
  "metadata": {
    "colab": {
      "provenance": []
    },
    "kernelspec": {
      "name": "python3",
      "display_name": "Python 3"
    },
    "language_info": {
      "name": "python"
    }
  },
  "cells": [
    {
      "cell_type": "code",
      "execution_count": 1,
      "metadata": {
        "id": "dtZVIQ8InOnT"
      },
      "outputs": [],
      "source": [
        "import nltk\n",
        "import spacy\n",
        "from nltk.tokenize import word_tokenize\n",
        "from sklearn.feature_extraction.text import TfidfVectorizer\n",
        "from sklearn.metrics.pairwise import cosine_similarity"
      ]
    },
    {
      "cell_type": "code",
      "source": [
        "nlp=spacy.load('en_core_web_sm')"
      ],
      "metadata": {
        "id": "XdptfIdOnxYK"
      },
      "execution_count": 2,
      "outputs": []
    },
    {
      "cell_type": "code",
      "source": [
        "faqs=[\n",
        "    {\"question\": \"What are your hours of operation?\",\"answer\": \"We are open from 9 AM to 5 PM, Monday to Friday.\"},\n",
        "    {\"question\": \"How can I contact customer support?\",\"answer\": \"You can contact our customer support at support@example.com.\"},\n",
        "    {\"question\": \"Do you offer international shipping?\",\"answer\": \"Yes, we offer international shipping to many countries.\"},\n",
        "    {\"question\": \"Can I change my shipping address after placing an order?\",\"answer\": \"Unfortunately, we cannot change the shipping address once the order has been placed.\"},\n",
        "    {\"question\": \"Can I return a sale item?\", \"answer\": \"Sale items can be returned within 14 days of purchase, subject to our return policy.\"},\n",
        "    {\"question\": \"Do you offer gift wrapping?\", \"answer\": \"Yes, we offer gift wrapping for an additional fee. You can select this option at checkout.\"},\n",
        "    {\"question\": \"What is your privacy policy?\", \"answer\": \"Our privacy policy is available on our website. It outlines how we collect, use, and protect your personal information.\"},\n",
        "]"
      ],
      "metadata": {
        "id": "yPv1US5nn4Li"
      },
      "execution_count": 3,
      "outputs": []
    },
    {
      "cell_type": "code",
      "source": [
        "questions=[faq['question'] for faq in faqs]"
      ],
      "metadata": {
        "id": "9BCpF-0Apby6"
      },
      "execution_count": 4,
      "outputs": []
    },
    {
      "cell_type": "code",
      "source": [
        "vectorizer=TfidfVectorizer()\n",
        "X=vectorizer.fit_transform(questions)"
      ],
      "metadata": {
        "id": "b6w28cZ_prwl"
      },
      "execution_count": 6,
      "outputs": []
    },
    {
      "cell_type": "code",
      "source": [
        "def advanced_preprocess(text):\n",
        "  doc=nlp(text)\n",
        "  tokens =[token.lemma_ for token in doc if not token.is_stop and not token.is_punct]\n",
        "  return ' '.join(tokens)"
      ],
      "metadata": {
        "id": "FArMgLEaqcmU"
      },
      "execution_count": 23,
      "outputs": []
    },
    {
      "cell_type": "code",
      "source": [
        "def chatbot_response_advanced(user_query):\n",
        "  user_query_processed=advanced_preprocess(user_query)\n",
        "  user_query_vec=vectorizer.transform([user_query_processed])\n",
        "  similarities=cosine_similarity(user_query_vec,X)\n",
        "  max_sim_index=similarities.argmax()\n",
        "  return faqs[max_sim_index]['answer']"
      ],
      "metadata": {
        "id": "H5BR8t0CrJX_"
      },
      "execution_count": 24,
      "outputs": []
    },
    {
      "cell_type": "code",
      "source": [
        "def chat_advanced():\n",
        "    print(\"Welcome to the FAQ chatbot. Type 'exit' to end our conversation.\")\n",
        "    while True:\n",
        "        user_input = input(\"You: \")\n",
        "        if user_input.lower() == 'exit':\n",
        "            print(\"Goodbye!\")\n",
        "            break\n",
        "        response = chatbot_response_advanced(user_input)\n",
        "        print(\"Bot:\", response)\n",
        "chat_advanced()\n",
        ""
      ],
      "metadata": {
        "colab": {
          "base_uri": "https://localhost:8080/"
        },
        "id": "uqzPzJOUtEqc",
        "outputId": "c92a9a1b-d3d9-4292-dfc0-a4146916acf5"
      },
      "execution_count": 26,
      "outputs": [
        {
          "output_type": "stream",
          "name": "stdout",
          "text": [
            "Welcome to the FAQ chatbot. Type 'exit' to end our conversation.\n",
            "You: How can I contact customer support?\n",
            "Bot: You can contact our customer support at support@example.com.\n",
            "You: Do you offer international shipping?\n",
            "Bot: Yes, we offer international shipping to many countries.\n",
            "You: What is your return policy?\n",
            "Bot: Sale items can be returned within 14 days of purchase, subject to our return policy.\n",
            "You: exit\n",
            "Goodbye!\n"
          ]
        }
      ]
    }
  ]
}